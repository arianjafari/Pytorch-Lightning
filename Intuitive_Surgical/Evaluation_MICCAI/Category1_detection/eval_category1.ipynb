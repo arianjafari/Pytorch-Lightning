{
 "cells": [
  {
   "cell_type": "markdown",
   "metadata": {},
   "source": [
    "# Step 1: \n",
    "Convert all prediction json files to a single json file in COCO format using convert2COCO.py. The expected output file should be 'submission/prediction_coco.json'\n"
   ]
  },
  {
   "cell_type": "markdown",
   "metadata": {},
   "source": [
    "# Step 2: \n",
    "Run COCO evaluation as follows to compare 'gt/annotation_coco.json' and 'submission/annotation_coco.json'. \n",
    "Only AP @ IoU=0.50:0.95 will be used as final evaluation metric"
   ]
  },
  {
   "cell_type": "code",
   "execution_count": null,
   "metadata": {},
   "outputs": [],
   "source": [
    "# reference: https://github.com/cocodataset/cocoapi/blob/master/PythonAPI/pycocoEvalDemo.ipynb\n",
    "%matplotlib inline\n",
    "import matplotlib.pyplot as plt\n",
    "from pycocotools.coco import COCO\n",
    "from pycocotools.cocoeval import COCOeval\n",
    "import numpy as np\n",
    "# import skimage.io as io\n",
    "import pylab\n",
    "import pandas as pd\n",
    "import json\n",
    "pylab.rcParams['figure.figsize'] = (10.0, 8.0)"
   ]
  },
  {
   "cell_type": "code",
   "execution_count": null,
   "metadata": {},
   "outputs": [],
   "source": [
    "#initialize COCO ground truth api\n",
    "annFile = 'gt/gt_coco.json'\n",
    "cocoGt=COCO(annFile)\n",
    "\n",
    "#initialize predictions\n",
    "resFile = 'submission/prediction_coco.json'\n",
    "data_team = json.load(open(resFile, 'r'))\n",
    "cocoDt=cocoGt.loadRes(resFile)"
   ]
  },
  {
   "cell_type": "code",
   "execution_count": null,
   "metadata": {},
   "outputs": [],
   "source": [
    "# check annotations and prediction counts in files\n",
    "gt = json.load(open(annFile, 'r'))\n",
    "pred = json.load(open(resFile, 'r'))\n",
    "print(f\"Loaded ground truth annotations {len(gt['annotations'])}\")\n",
    "print(f\"Loaded predictions {len(pred)}\")"
   ]
  },
  {
   "cell_type": "code",
   "execution_count": null,
   "metadata": {},
   "outputs": [],
   "source": [
    "# specific evaluation type as bounding box\n",
    "annType = 'bbox'\n",
    "print(f'Running demo for *{annType}* results.')\n",
    "\n",
    "# initiate COCO evaluation\n",
    "cocoEval = COCOeval(cocoGt,cocoDt,annType)\n",
    "\n",
    "# reconfigure maximum detection per image\n",
    "cocoEval.params.maxDets = [5, 10, 100]\n",
    "\n",
    "# run evaluation \n",
    "cocoEval.evaluate()\n",
    "cocoEval.accumulate()\n",
    "cocoEval.summarize()\n",
    "\n",
    "# only AP @ IoU=0.50:0.95 will be used as final evaluation metric"
   ]
  }
 ],
 "metadata": {
  "kernelspec": {
   "display_name": "miccai_eval",
   "language": "python",
   "name": "miccai_eval"
  },
  "language_info": {
   "codemirror_mode": {
    "name": "ipython",
    "version": 3
   },
   "file_extension": ".py",
   "mimetype": "text/x-python",
   "name": "python",
   "nbconvert_exporter": "python",
   "pygments_lexer": "ipython3",
   "version": "3.7.9"
  },
  "pycharm": {
   "stem_cell": {
    "cell_type": "raw",
    "metadata": {
     "collapsed": false
    },
    "source": []
   }
  }
 },
 "nbformat": 4,
 "nbformat_minor": 4
}
